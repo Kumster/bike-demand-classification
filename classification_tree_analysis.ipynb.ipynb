{
 "cells": [
  {
   "cell_type": "markdown",
   "id": "j__1ZiLtX1Ju",
   "metadata": {
    "id": "j__1ZiLtX1Ju"
   },
   "source": [
    "# **DNSC6315 Assignments**\n",
    "\n",
    "We use Capital Bikeshare data for the analysis in DNSC6315 assignments."
   ]
  },
  {
   "cell_type": "markdown",
   "id": "L8IW9x_5YGkj",
   "metadata": {
    "id": "L8IW9x_5YGkj"
   },
   "source": [
    "### Read data from drive or local"
   ]
  },
  {
   "cell_type": "code",
   "execution_count": 1,
   "id": "z6PSK4jES9P1",
   "metadata": {
    "colab": {
     "base_uri": "https://localhost:8080/"
    },
    "executionInfo": {
     "elapsed": 537,
     "status": "ok",
     "timestamp": 1743209626775,
     "user": {
      "displayName": "Long He",
      "userId": "13831194534397991444"
     },
     "user_tz": 240
    },
    "id": "z6PSK4jES9P1",
    "outputId": "b245a358-f9df-4199-be55-d86b590e20fb"
   },
   "outputs": [
    {
     "ename": "ModuleNotFoundError",
     "evalue": "No module named 'google.colab'",
     "output_type": "error",
     "traceback": [
      "\u001b[1;31m---------------------------------------------------------------------------\u001b[0m",
      "\u001b[1;31mModuleNotFoundError\u001b[0m                       Traceback (most recent call last)",
      "Cell \u001b[1;32mIn[1], line 1\u001b[0m\n\u001b[1;32m----> 1\u001b[0m \u001b[38;5;28;01mfrom\u001b[39;00m \u001b[38;5;21;01mgoogle\u001b[39;00m\u001b[38;5;21;01m.\u001b[39;00m\u001b[38;5;21;01mcolab\u001b[39;00m \u001b[38;5;28;01mimport\u001b[39;00m drive\n\u001b[0;32m      3\u001b[0m \u001b[38;5;66;03m# Mount Google Drive\u001b[39;00m\n\u001b[0;32m      4\u001b[0m drive\u001b[38;5;241m.\u001b[39mmount(\u001b[38;5;124m'\u001b[39m\u001b[38;5;124m/content/drive\u001b[39m\u001b[38;5;124m'\u001b[39m)\n",
      "\u001b[1;31mModuleNotFoundError\u001b[0m: No module named 'google.colab'"
     ]
    }
   ],
   "source": [
    "from google.colab import drive\n",
    "\n",
    "# Mount Google Drive\n",
    "drive.mount('/content/drive')\n"
   ]
  },
  {
   "cell_type": "code",
   "execution_count": 2,
   "id": "X4MzX_C0WHiq",
   "metadata": {
    "id": "X4MzX_C0WHiq"
   },
   "outputs": [],
   "source": [
    "import pandas as pd\n",
    "\n",
    "# Correct Windows-style local paths\n",
    "df_Feb = pd.read_csv(\"C:\\\\Users\\\\Kumar\\\\Downloads\\\\Data (1)\\\\Data\\\\202402-capitalbikeshare-tripdata.csv\")\n",
    "df_Mar = pd.read_csv(\"C:\\\\Users\\\\Kumar\\\\Downloads\\\\Data (1)\\\\Data\\\\202403-capitalbikeshare-tripdata.csv\")\n",
    "df_Apr = pd.read_csv(\"C:\\\\Users\\\\Kumar\\\\Downloads\\\\Data (1)\\\\Data\\\\202404-capitalbikeshare-tripdata.csv\")\n",
    "\n",
    "# concat data\n",
    "df=pd.concat([df_Feb, df_Mar,df_Apr])"
   ]
  },
  {
   "cell_type": "code",
   "execution_count": 3,
   "id": "c4387QeZVhRb",
   "metadata": {
    "colab": {
     "base_uri": "https://localhost:8080/",
     "height": 293
    },
    "executionInfo": {
     "elapsed": 3,
     "status": "ok",
     "timestamp": 1743209634871,
     "user": {
      "displayName": "Long He",
      "userId": "13831194534397991444"
     },
     "user_tz": 240
    },
    "id": "c4387QeZVhRb",
    "outputId": "0b911d24-7f7c-44d7-a098-317312d0fae4"
   },
   "outputs": [
    {
     "data": {
      "text/html": [
       "<div>\n",
       "<style scoped>\n",
       "    .dataframe tbody tr th:only-of-type {\n",
       "        vertical-align: middle;\n",
       "    }\n",
       "\n",
       "    .dataframe tbody tr th {\n",
       "        vertical-align: top;\n",
       "    }\n",
       "\n",
       "    .dataframe thead th {\n",
       "        text-align: right;\n",
       "    }\n",
       "</style>\n",
       "<table border=\"1\" class=\"dataframe\">\n",
       "  <thead>\n",
       "    <tr style=\"text-align: right;\">\n",
       "      <th></th>\n",
       "      <th>ride_id</th>\n",
       "      <th>rideable_type</th>\n",
       "      <th>started_at</th>\n",
       "      <th>ended_at</th>\n",
       "      <th>start_station_name</th>\n",
       "      <th>start_station_id</th>\n",
       "      <th>end_station_name</th>\n",
       "      <th>end_station_id</th>\n",
       "      <th>start_lat</th>\n",
       "      <th>start_lng</th>\n",
       "      <th>end_lat</th>\n",
       "      <th>end_lng</th>\n",
       "      <th>member_casual</th>\n",
       "    </tr>\n",
       "  </thead>\n",
       "  <tbody>\n",
       "    <tr>\n",
       "      <th>0</th>\n",
       "      <td>24DBACC298E33BF6</td>\n",
       "      <td>electric_bike</td>\n",
       "      <td>2024-02-01 21:18:50</td>\n",
       "      <td>2024-02-01 21:27:36</td>\n",
       "      <td>Eckington Pl &amp; Q St NE</td>\n",
       "      <td>31505.0</td>\n",
       "      <td>5th &amp; K St NW</td>\n",
       "      <td>31600.0</td>\n",
       "      <td>38.910893</td>\n",
       "      <td>-77.005023</td>\n",
       "      <td>38.90304</td>\n",
       "      <td>-77.019027</td>\n",
       "      <td>member</td>\n",
       "    </tr>\n",
       "    <tr>\n",
       "      <th>1</th>\n",
       "      <td>FE1067800A18BC56</td>\n",
       "      <td>electric_bike</td>\n",
       "      <td>2024-02-06 17:15:33</td>\n",
       "      <td>2024-02-06 17:30:33</td>\n",
       "      <td>4th &amp; C St SW</td>\n",
       "      <td>31243.0</td>\n",
       "      <td>NaN</td>\n",
       "      <td>NaN</td>\n",
       "      <td>38.886443</td>\n",
       "      <td>-77.017388</td>\n",
       "      <td>38.91000</td>\n",
       "      <td>-76.980000</td>\n",
       "      <td>member</td>\n",
       "    </tr>\n",
       "    <tr>\n",
       "      <th>2</th>\n",
       "      <td>AD1962B215B5879D</td>\n",
       "      <td>electric_bike</td>\n",
       "      <td>2024-02-26 13:19:42</td>\n",
       "      <td>2024-02-26 13:30:44</td>\n",
       "      <td>North Capitol St &amp; F St NW</td>\n",
       "      <td>31624.0</td>\n",
       "      <td>NaN</td>\n",
       "      <td>NaN</td>\n",
       "      <td>38.896907</td>\n",
       "      <td>-77.009684</td>\n",
       "      <td>38.90000</td>\n",
       "      <td>-77.010000</td>\n",
       "      <td>member</td>\n",
       "    </tr>\n",
       "    <tr>\n",
       "      <th>3</th>\n",
       "      <td>3F8352E6D9EC4F85</td>\n",
       "      <td>electric_bike</td>\n",
       "      <td>2024-02-02 11:01:22</td>\n",
       "      <td>2024-02-02 11:05:14</td>\n",
       "      <td>1st &amp; K St NE</td>\n",
       "      <td>31662.0</td>\n",
       "      <td>NaN</td>\n",
       "      <td>NaN</td>\n",
       "      <td>38.902394</td>\n",
       "      <td>-77.005614</td>\n",
       "      <td>38.90000</td>\n",
       "      <td>-77.010000</td>\n",
       "      <td>member</td>\n",
       "    </tr>\n",
       "    <tr>\n",
       "      <th>4</th>\n",
       "      <td>D656DA87FA915F14</td>\n",
       "      <td>electric_bike</td>\n",
       "      <td>2024-02-25 08:28:18</td>\n",
       "      <td>2024-02-25 08:48:44</td>\n",
       "      <td>Virginia Ave &amp; 25th St NW</td>\n",
       "      <td>31297.0</td>\n",
       "      <td>NaN</td>\n",
       "      <td>NaN</td>\n",
       "      <td>38.898456</td>\n",
       "      <td>-77.053075</td>\n",
       "      <td>38.91000</td>\n",
       "      <td>-77.060000</td>\n",
       "      <td>member</td>\n",
       "    </tr>\n",
       "  </tbody>\n",
       "</table>\n",
       "</div>"
      ],
      "text/plain": [
       "            ride_id  rideable_type           started_at             ended_at  \\\n",
       "0  24DBACC298E33BF6  electric_bike  2024-02-01 21:18:50  2024-02-01 21:27:36   \n",
       "1  FE1067800A18BC56  electric_bike  2024-02-06 17:15:33  2024-02-06 17:30:33   \n",
       "2  AD1962B215B5879D  electric_bike  2024-02-26 13:19:42  2024-02-26 13:30:44   \n",
       "3  3F8352E6D9EC4F85  electric_bike  2024-02-02 11:01:22  2024-02-02 11:05:14   \n",
       "4  D656DA87FA915F14  electric_bike  2024-02-25 08:28:18  2024-02-25 08:48:44   \n",
       "\n",
       "           start_station_name  start_station_id end_station_name  \\\n",
       "0      Eckington Pl & Q St NE           31505.0    5th & K St NW   \n",
       "1               4th & C St SW           31243.0              NaN   \n",
       "2  North Capitol St & F St NW           31624.0              NaN   \n",
       "3               1st & K St NE           31662.0              NaN   \n",
       "4   Virginia Ave & 25th St NW           31297.0              NaN   \n",
       "\n",
       "   end_station_id  start_lat  start_lng   end_lat    end_lng member_casual  \n",
       "0         31600.0  38.910893 -77.005023  38.90304 -77.019027        member  \n",
       "1             NaN  38.886443 -77.017388  38.91000 -76.980000        member  \n",
       "2             NaN  38.896907 -77.009684  38.90000 -77.010000        member  \n",
       "3             NaN  38.902394 -77.005614  38.90000 -77.010000        member  \n",
       "4             NaN  38.898456 -77.053075  38.91000 -77.060000        member  "
      ]
     },
     "execution_count": 3,
     "metadata": {},
     "output_type": "execute_result"
    }
   ],
   "source": [
    "df.head()"
   ]
  },
  {
   "cell_type": "markdown",
   "id": "aVqYNoxrcbyD",
   "metadata": {
    "id": "aVqYNoxrcbyD"
   },
   "source": [
    "## Focus on GWSB Station: '22nd & H St NW'"
   ]
  },
  {
   "cell_type": "markdown",
   "id": "1520a1db",
   "metadata": {
    "id": "1520a1db"
   },
   "source": [
    "### Bike Availability: Number of Pickups"
   ]
  },
  {
   "cell_type": "code",
   "execution_count": 4,
   "id": "y3VxzXhcZn-k",
   "metadata": {
    "colab": {
     "base_uri": "https://localhost:8080/",
     "height": 489
    },
    "executionInfo": {
     "elapsed": 314,
     "status": "ok",
     "timestamp": 1743209635585,
     "user": {
      "displayName": "Long He",
      "userId": "13831194534397991444"
     },
     "user_tz": 240
    },
    "id": "y3VxzXhcZn-k",
    "outputId": "c09166c3-3063-421a-a92e-ff75b5c3643a"
   },
   "outputs": [
    {
     "data": {
      "text/plain": [
       "started_at_date\n",
       "2024-02-01    33\n",
       "2024-02-02    23\n",
       "2024-02-03    22\n",
       "2024-02-04    18\n",
       "2024-02-05    19\n",
       "              ..\n",
       "2024-04-26    33\n",
       "2024-04-27    18\n",
       "2024-04-28    36\n",
       "2024-04-29    37\n",
       "2024-04-30    40\n",
       "Name: started_at_date, Length: 90, dtype: int64"
      ]
     },
     "execution_count": 4,
     "metadata": {},
     "output_type": "execute_result"
    }
   ],
   "source": [
    "# Convert the 'started_at' column to datetime objects\n",
    "df['started_at_date'] = pd.to_datetime(df['started_at']).dt.date\n",
    "\n",
    "# Filter for trips started at '22nd & H St NW'\n",
    "PU_trips = df[df['start_station_name'] == '22nd & H St NW']\n",
    "\n",
    "# Group by date and count the trips\n",
    "PU_counts = PU_trips.groupby('started_at_date')['started_at_date'].count()\n",
    "\n",
    "PU_counts"
   ]
  },
  {
   "cell_type": "markdown",
   "id": "NMY1dXxqdAPt",
   "metadata": {
    "id": "NMY1dXxqdAPt"
   },
   "source": [
    "## Dock Availability: Number of Dropoffs"
   ]
  },
  {
   "cell_type": "code",
   "execution_count": 5,
   "id": "SRtAGqpCc_Wj",
   "metadata": {
    "colab": {
     "base_uri": "https://localhost:8080/",
     "height": 489
    },
    "executionInfo": {
     "elapsed": 337,
     "status": "ok",
     "timestamp": 1743209636324,
     "user": {
      "displayName": "Long He",
      "userId": "13831194534397991444"
     },
     "user_tz": 240
    },
    "id": "SRtAGqpCc_Wj",
    "outputId": "a206cb0f-c12e-46e0-a0a7-dce1111abbf8"
   },
   "outputs": [
    {
     "data": {
      "text/plain": [
       "ended_at_date\n",
       "2024-02-01    33\n",
       "2024-02-02    25\n",
       "2024-02-03    20\n",
       "2024-02-04    19\n",
       "2024-02-05    23\n",
       "              ..\n",
       "2024-04-26    39\n",
       "2024-04-27    24\n",
       "2024-04-28    28\n",
       "2024-04-29    38\n",
       "2024-04-30    39\n",
       "Name: ended_at_date, Length: 90, dtype: int64"
      ]
     },
     "execution_count": 5,
     "metadata": {},
     "output_type": "execute_result"
    }
   ],
   "source": [
    "# Convert the 'ended_at' column to datetime objects\n",
    "df['ended_at_date'] = pd.to_datetime(df['ended_at']).dt.date\n",
    "\n",
    "# Filter for trips ended at '22nd & H St NW'\n",
    "DO_trips = df[df['end_station_name'] == '22nd & H St NW']\n",
    "\n",
    "# Group by date and count the trips\n",
    "DO_counts = DO_trips.groupby('ended_at_date')['ended_at_date'].count()\n",
    "\n",
    "DO_counts"
   ]
  },
  {
   "cell_type": "markdown",
   "id": "3qosEW4wdVJ2",
   "metadata": {
    "id": "3qosEW4wdVJ2"
   },
   "source": [
    "## Merge PU and DO tables\n",
    "- For each day, we look at the numbers of pickups and dropoffs"
   ]
  },
  {
   "cell_type": "code",
   "execution_count": 6,
   "id": "UwgJLIMcf9SB",
   "metadata": {
    "colab": {
     "base_uri": "https://localhost:8080/",
     "height": 455
    },
    "executionInfo": {
     "elapsed": 20,
     "status": "ok",
     "timestamp": 1743209636343,
     "user": {
      "displayName": "Long He",
      "userId": "13831194534397991444"
     },
     "user_tz": 240
    },
    "id": "UwgJLIMcf9SB",
    "outputId": "343b5ed3-4b5f-473d-cf92-853e7ce5114d"
   },
   "outputs": [
    {
     "data": {
      "text/html": [
       "<div>\n",
       "<style scoped>\n",
       "    .dataframe tbody tr th:only-of-type {\n",
       "        vertical-align: middle;\n",
       "    }\n",
       "\n",
       "    .dataframe tbody tr th {\n",
       "        vertical-align: top;\n",
       "    }\n",
       "\n",
       "    .dataframe thead th {\n",
       "        text-align: right;\n",
       "    }\n",
       "</style>\n",
       "<table border=\"1\" class=\"dataframe\">\n",
       "  <thead>\n",
       "    <tr style=\"text-align: right;\">\n",
       "      <th></th>\n",
       "      <th>PU_ct</th>\n",
       "      <th>DO_ct</th>\n",
       "    </tr>\n",
       "    <tr>\n",
       "      <th>date</th>\n",
       "      <th></th>\n",
       "      <th></th>\n",
       "    </tr>\n",
       "  </thead>\n",
       "  <tbody>\n",
       "    <tr>\n",
       "      <th>2024-02-01</th>\n",
       "      <td>33</td>\n",
       "      <td>33</td>\n",
       "    </tr>\n",
       "    <tr>\n",
       "      <th>2024-02-02</th>\n",
       "      <td>23</td>\n",
       "      <td>25</td>\n",
       "    </tr>\n",
       "    <tr>\n",
       "      <th>2024-02-03</th>\n",
       "      <td>22</td>\n",
       "      <td>20</td>\n",
       "    </tr>\n",
       "    <tr>\n",
       "      <th>2024-02-04</th>\n",
       "      <td>18</td>\n",
       "      <td>19</td>\n",
       "    </tr>\n",
       "    <tr>\n",
       "      <th>2024-02-05</th>\n",
       "      <td>19</td>\n",
       "      <td>23</td>\n",
       "    </tr>\n",
       "    <tr>\n",
       "      <th>...</th>\n",
       "      <td>...</td>\n",
       "      <td>...</td>\n",
       "    </tr>\n",
       "    <tr>\n",
       "      <th>2024-04-26</th>\n",
       "      <td>33</td>\n",
       "      <td>39</td>\n",
       "    </tr>\n",
       "    <tr>\n",
       "      <th>2024-04-27</th>\n",
       "      <td>18</td>\n",
       "      <td>24</td>\n",
       "    </tr>\n",
       "    <tr>\n",
       "      <th>2024-04-28</th>\n",
       "      <td>36</td>\n",
       "      <td>28</td>\n",
       "    </tr>\n",
       "    <tr>\n",
       "      <th>2024-04-29</th>\n",
       "      <td>37</td>\n",
       "      <td>38</td>\n",
       "    </tr>\n",
       "    <tr>\n",
       "      <th>2024-04-30</th>\n",
       "      <td>40</td>\n",
       "      <td>39</td>\n",
       "    </tr>\n",
       "  </tbody>\n",
       "</table>\n",
       "<p>90 rows × 2 columns</p>\n",
       "</div>"
      ],
      "text/plain": [
       "            PU_ct  DO_ct\n",
       "date                    \n",
       "2024-02-01     33     33\n",
       "2024-02-02     23     25\n",
       "2024-02-03     22     20\n",
       "2024-02-04     18     19\n",
       "2024-02-05     19     23\n",
       "...           ...    ...\n",
       "2024-04-26     33     39\n",
       "2024-04-27     18     24\n",
       "2024-04-28     36     28\n",
       "2024-04-29     37     38\n",
       "2024-04-30     40     39\n",
       "\n",
       "[90 rows x 2 columns]"
      ]
     },
     "execution_count": 6,
     "metadata": {},
     "output_type": "execute_result"
    }
   ],
   "source": [
    "# merge PU_counts and DO_counts by matching the dates, and change the column names to PU_count and DO_count respectively.\n",
    "\n",
    "PU_DO_counts = pd.merge(PU_counts, DO_counts, left_index=True, right_index=True, how='outer')\n",
    "PU_DO_counts = PU_DO_counts.rename(columns={'started_at_date': 'PU_ct', 'ended_at_date': 'DO_ct'})\n",
    "\n",
    "# change the index name from 'started_at' to 'date'\n",
    "\n",
    "PU_DO_counts = PU_DO_counts.rename_axis('date')\n",
    "PU_DO_counts\n"
   ]
  },
  {
   "cell_type": "markdown",
   "id": "cbb1a6e3",
   "metadata": {
    "id": "cbb1a6e3"
   },
   "source": [
    "# Feature Information: Weather Data\n",
    "- From https://www.visualcrossing.com/weather-history/"
   ]
  },
  {
   "cell_type": "code",
   "execution_count": 8,
   "id": "91178cea",
   "metadata": {
    "colab": {
     "base_uri": "https://localhost:8080/",
     "height": 429
    },
    "executionInfo": {
     "elapsed": 42,
     "status": "ok",
     "timestamp": 1743209636386,
     "user": {
      "displayName": "Long He",
      "userId": "13831194534397991444"
     },
     "user_tz": 240
    },
    "id": "91178cea",
    "outputId": "cdfc84cd-5f3f-4a91-8775-3b14a98d00f0"
   },
   "outputs": [
    {
     "data": {
      "text/html": [
       "<div>\n",
       "<style scoped>\n",
       "    .dataframe tbody tr th:only-of-type {\n",
       "        vertical-align: middle;\n",
       "    }\n",
       "\n",
       "    .dataframe tbody tr th {\n",
       "        vertical-align: top;\n",
       "    }\n",
       "\n",
       "    .dataframe thead th {\n",
       "        text-align: right;\n",
       "    }\n",
       "</style>\n",
       "<table border=\"1\" class=\"dataframe\">\n",
       "  <thead>\n",
       "    <tr style=\"text-align: right;\">\n",
       "      <th></th>\n",
       "      <th>name</th>\n",
       "      <th>datetime</th>\n",
       "      <th>tempmax</th>\n",
       "      <th>tempmin</th>\n",
       "      <th>temp</th>\n",
       "      <th>feelslikemax</th>\n",
       "      <th>feelslikemin</th>\n",
       "      <th>feelslike</th>\n",
       "      <th>dew</th>\n",
       "      <th>humidity</th>\n",
       "      <th>...</th>\n",
       "      <th>solarenergy</th>\n",
       "      <th>uvindex</th>\n",
       "      <th>severerisk</th>\n",
       "      <th>sunrise</th>\n",
       "      <th>sunset</th>\n",
       "      <th>moonphase</th>\n",
       "      <th>conditions</th>\n",
       "      <th>description</th>\n",
       "      <th>icon</th>\n",
       "      <th>stations</th>\n",
       "    </tr>\n",
       "  </thead>\n",
       "  <tbody>\n",
       "    <tr>\n",
       "      <th>0</th>\n",
       "      <td>washington, dc</td>\n",
       "      <td>2024-01-01</td>\n",
       "      <td>43.0</td>\n",
       "      <td>38.9</td>\n",
       "      <td>40.8</td>\n",
       "      <td>41.8</td>\n",
       "      <td>31.4</td>\n",
       "      <td>36.4</td>\n",
       "      <td>33.3</td>\n",
       "      <td>74.7</td>\n",
       "      <td>...</td>\n",
       "      <td>0.9</td>\n",
       "      <td>1</td>\n",
       "      <td>10</td>\n",
       "      <td>2024-01-01T07:26:50</td>\n",
       "      <td>2024-01-01T16:56:30</td>\n",
       "      <td>0.68</td>\n",
       "      <td>Overcast</td>\n",
       "      <td>Cloudy skies throughout the day.</td>\n",
       "      <td>cloudy</td>\n",
       "      <td>KDCA,72405013743,D6279,72403793728,KADW,KDAA,7...</td>\n",
       "    </tr>\n",
       "    <tr>\n",
       "      <th>1</th>\n",
       "      <td>washington, dc</td>\n",
       "      <td>2024-01-02</td>\n",
       "      <td>45.9</td>\n",
       "      <td>35.7</td>\n",
       "      <td>40.4</td>\n",
       "      <td>40.9</td>\n",
       "      <td>27.2</td>\n",
       "      <td>33.8</td>\n",
       "      <td>26.2</td>\n",
       "      <td>57.3</td>\n",
       "      <td>...</td>\n",
       "      <td>8.3</td>\n",
       "      <td>5</td>\n",
       "      <td>10</td>\n",
       "      <td>2024-01-02T07:26:58</td>\n",
       "      <td>2024-01-02T16:57:20</td>\n",
       "      <td>0.72</td>\n",
       "      <td>Partially cloudy</td>\n",
       "      <td>Partly cloudy throughout the day.</td>\n",
       "      <td>partly-cloudy-day</td>\n",
       "      <td>KDCA,72405013743,D6279,72403793728,KADW,KDAA,7...</td>\n",
       "    </tr>\n",
       "    <tr>\n",
       "      <th>2</th>\n",
       "      <td>washington, dc</td>\n",
       "      <td>2024-01-03</td>\n",
       "      <td>47.8</td>\n",
       "      <td>33.7</td>\n",
       "      <td>39.9</td>\n",
       "      <td>44.6</td>\n",
       "      <td>27.8</td>\n",
       "      <td>36.4</td>\n",
       "      <td>26.6</td>\n",
       "      <td>59.5</td>\n",
       "      <td>...</td>\n",
       "      <td>9.6</td>\n",
       "      <td>5</td>\n",
       "      <td>10</td>\n",
       "      <td>2024-01-03T07:27:04</td>\n",
       "      <td>2024-01-03T16:58:10</td>\n",
       "      <td>0.75</td>\n",
       "      <td>Partially cloudy</td>\n",
       "      <td>Partly cloudy throughout the day.</td>\n",
       "      <td>partly-cloudy-day</td>\n",
       "      <td>C6294,KDCA,72405013743,D6279,72403793728,KADW,...</td>\n",
       "    </tr>\n",
       "    <tr>\n",
       "      <th>3</th>\n",
       "      <td>washington, dc</td>\n",
       "      <td>2024-01-04</td>\n",
       "      <td>46.7</td>\n",
       "      <td>33.2</td>\n",
       "      <td>40.4</td>\n",
       "      <td>41.9</td>\n",
       "      <td>24.1</td>\n",
       "      <td>34.6</td>\n",
       "      <td>25.2</td>\n",
       "      <td>55.2</td>\n",
       "      <td>...</td>\n",
       "      <td>4.8</td>\n",
       "      <td>4</td>\n",
       "      <td>10</td>\n",
       "      <td>2024-01-04T07:27:07</td>\n",
       "      <td>2024-01-04T16:59:02</td>\n",
       "      <td>0.78</td>\n",
       "      <td>Partially cloudy</td>\n",
       "      <td>Partly cloudy throughout the day.</td>\n",
       "      <td>partly-cloudy-day</td>\n",
       "      <td>C6294,KDCA,72405013743,72403793728,KADW,KDAA,7...</td>\n",
       "    </tr>\n",
       "    <tr>\n",
       "      <th>4</th>\n",
       "      <td>washington, dc</td>\n",
       "      <td>2024-01-05</td>\n",
       "      <td>39.9</td>\n",
       "      <td>27.8</td>\n",
       "      <td>33.6</td>\n",
       "      <td>35.8</td>\n",
       "      <td>19.4</td>\n",
       "      <td>28.0</td>\n",
       "      <td>18.9</td>\n",
       "      <td>55.0</td>\n",
       "      <td>...</td>\n",
       "      <td>11.6</td>\n",
       "      <td>5</td>\n",
       "      <td>10</td>\n",
       "      <td>2024-01-05T07:27:09</td>\n",
       "      <td>2024-01-05T16:59:55</td>\n",
       "      <td>0.81</td>\n",
       "      <td>Partially cloudy</td>\n",
       "      <td>Partly cloudy throughout the day.</td>\n",
       "      <td>partly-cloudy-day</td>\n",
       "      <td>C6294,KDCA,72405013743,72403793728,D6279,KADW,...</td>\n",
       "    </tr>\n",
       "  </tbody>\n",
       "</table>\n",
       "<p>5 rows × 33 columns</p>\n",
       "</div>"
      ],
      "text/plain": [
       "             name    datetime  tempmax  tempmin  temp  feelslikemax  \\\n",
       "0  washington, dc  2024-01-01     43.0     38.9  40.8          41.8   \n",
       "1  washington, dc  2024-01-02     45.9     35.7  40.4          40.9   \n",
       "2  washington, dc  2024-01-03     47.8     33.7  39.9          44.6   \n",
       "3  washington, dc  2024-01-04     46.7     33.2  40.4          41.9   \n",
       "4  washington, dc  2024-01-05     39.9     27.8  33.6          35.8   \n",
       "\n",
       "   feelslikemin  feelslike   dew  humidity  ...  solarenergy  uvindex  \\\n",
       "0          31.4       36.4  33.3      74.7  ...          0.9        1   \n",
       "1          27.2       33.8  26.2      57.3  ...          8.3        5   \n",
       "2          27.8       36.4  26.6      59.5  ...          9.6        5   \n",
       "3          24.1       34.6  25.2      55.2  ...          4.8        4   \n",
       "4          19.4       28.0  18.9      55.0  ...         11.6        5   \n",
       "\n",
       "   severerisk              sunrise               sunset  moonphase  \\\n",
       "0          10  2024-01-01T07:26:50  2024-01-01T16:56:30       0.68   \n",
       "1          10  2024-01-02T07:26:58  2024-01-02T16:57:20       0.72   \n",
       "2          10  2024-01-03T07:27:04  2024-01-03T16:58:10       0.75   \n",
       "3          10  2024-01-04T07:27:07  2024-01-04T16:59:02       0.78   \n",
       "4          10  2024-01-05T07:27:09  2024-01-05T16:59:55       0.81   \n",
       "\n",
       "         conditions                        description               icon  \\\n",
       "0          Overcast   Cloudy skies throughout the day.             cloudy   \n",
       "1  Partially cloudy  Partly cloudy throughout the day.  partly-cloudy-day   \n",
       "2  Partially cloudy  Partly cloudy throughout the day.  partly-cloudy-day   \n",
       "3  Partially cloudy  Partly cloudy throughout the day.  partly-cloudy-day   \n",
       "4  Partially cloudy  Partly cloudy throughout the day.  partly-cloudy-day   \n",
       "\n",
       "                                            stations  \n",
       "0  KDCA,72405013743,D6279,72403793728,KADW,KDAA,7...  \n",
       "1  KDCA,72405013743,D6279,72403793728,KADW,KDAA,7...  \n",
       "2  C6294,KDCA,72405013743,D6279,72403793728,KADW,...  \n",
       "3  C6294,KDCA,72405013743,72403793728,KADW,KDAA,7...  \n",
       "4  C6294,KDCA,72405013743,72403793728,D6279,KADW,...  \n",
       "\n",
       "[5 rows x 33 columns]"
      ]
     },
     "execution_count": 8,
     "metadata": {},
     "output_type": "execute_result"
    }
   ],
   "source": [
    "import pandas as pd\n",
    "\n",
    "df_weather = pd.read_csv(\"C:\\\\Users\\\\Kumar\\\\Downloads\\\\Data (1)\\\\Data\\\\DC_weather_2024.csv\")\n",
    "df_weather.head()\n"
   ]
  },
  {
   "cell_type": "markdown",
   "id": "94f6001e",
   "metadata": {
    "id": "94f6001e"
   },
   "source": [
    "## Drop variables of your choice"
   ]
  },
  {
   "cell_type": "code",
   "execution_count": 9,
   "id": "82a937c9",
   "metadata": {
    "id": "82a937c9"
   },
   "outputs": [],
   "source": [
    "# Drop unnecessary variables\n",
    "df_weather=df_weather.drop(columns=['name', 'stations','description','sunrise','sunset','conditions','severerisk','preciptype','windgust'])"
   ]
  },
  {
   "cell_type": "markdown",
   "id": "a28e9ce3",
   "metadata": {
    "id": "a28e9ce3"
   },
   "source": [
    "## Prepare X and y: Merge df_weather with PU_DO_counts"
   ]
  },
  {
   "cell_type": "code",
   "execution_count": 10,
   "id": "LceO3zBEq0-q",
   "metadata": {
    "id": "LceO3zBEq0-q"
   },
   "outputs": [],
   "source": [
    "# Convert the 'datetime' column to datetime objects and extract the date\n",
    "df_weather['datetime'] = pd.to_datetime(df_weather['datetime'])\n",
    "df_weather['date'] = df_weather['datetime'].dt.date\n",
    "\n",
    "# Merge the two dataframes based on the 'date' column\n",
    "merged_df = pd.merge(PU_DO_counts, df_weather, on='date', how='left')"
   ]
  },
  {
   "cell_type": "markdown",
   "id": "7ef1734d",
   "metadata": {
    "id": "7ef1734d"
   },
   "source": [
    "# Prepare training and test data"
   ]
  },
  {
   "cell_type": "code",
   "execution_count": 11,
   "id": "0217869f",
   "metadata": {
    "colab": {
     "base_uri": "https://localhost:8080/",
     "height": 423
    },
    "executionInfo": {
     "elapsed": 58,
     "status": "ok",
     "timestamp": 1743209636479,
     "user": {
      "displayName": "Long He",
      "userId": "13831194534397991444"
     },
     "user_tz": 240
    },
    "id": "0217869f",
    "outputId": "2ae960e9-b57c-40c7-e59b-753c9e353eff"
   },
   "outputs": [
    {
     "data": {
      "text/html": [
       "<div>\n",
       "<style scoped>\n",
       "    .dataframe tbody tr th:only-of-type {\n",
       "        vertical-align: middle;\n",
       "    }\n",
       "\n",
       "    .dataframe tbody tr th {\n",
       "        vertical-align: top;\n",
       "    }\n",
       "\n",
       "    .dataframe thead th {\n",
       "        text-align: right;\n",
       "    }\n",
       "</style>\n",
       "<table border=\"1\" class=\"dataframe\">\n",
       "  <thead>\n",
       "    <tr style=\"text-align: right;\">\n",
       "      <th></th>\n",
       "      <th>temp</th>\n",
       "      <th>precip</th>\n",
       "      <th>windspeed</th>\n",
       "      <th>uvindex</th>\n",
       "      <th>icon</th>\n",
       "    </tr>\n",
       "  </thead>\n",
       "  <tbody>\n",
       "    <tr>\n",
       "      <th>0</th>\n",
       "      <td>42.4</td>\n",
       "      <td>0.000</td>\n",
       "      <td>12.0</td>\n",
       "      <td>5</td>\n",
       "      <td>partly-cloudy-day</td>\n",
       "    </tr>\n",
       "    <tr>\n",
       "      <th>1</th>\n",
       "      <td>47.1</td>\n",
       "      <td>0.012</td>\n",
       "      <td>19.1</td>\n",
       "      <td>2</td>\n",
       "      <td>rain</td>\n",
       "    </tr>\n",
       "    <tr>\n",
       "      <th>2</th>\n",
       "      <td>42.2</td>\n",
       "      <td>0.000</td>\n",
       "      <td>14.7</td>\n",
       "      <td>6</td>\n",
       "      <td>clear-day</td>\n",
       "    </tr>\n",
       "    <tr>\n",
       "      <th>3</th>\n",
       "      <td>41.7</td>\n",
       "      <td>0.000</td>\n",
       "      <td>9.2</td>\n",
       "      <td>6</td>\n",
       "      <td>clear-day</td>\n",
       "    </tr>\n",
       "    <tr>\n",
       "      <th>4</th>\n",
       "      <td>41.0</td>\n",
       "      <td>0.000</td>\n",
       "      <td>12.2</td>\n",
       "      <td>6</td>\n",
       "      <td>partly-cloudy-day</td>\n",
       "    </tr>\n",
       "    <tr>\n",
       "      <th>...</th>\n",
       "      <td>...</td>\n",
       "      <td>...</td>\n",
       "      <td>...</td>\n",
       "      <td>...</td>\n",
       "      <td>...</td>\n",
       "    </tr>\n",
       "    <tr>\n",
       "      <th>85</th>\n",
       "      <td>55.2</td>\n",
       "      <td>0.000</td>\n",
       "      <td>15.4</td>\n",
       "      <td>9</td>\n",
       "      <td>partly-cloudy-day</td>\n",
       "    </tr>\n",
       "    <tr>\n",
       "      <th>86</th>\n",
       "      <td>55.7</td>\n",
       "      <td>0.032</td>\n",
       "      <td>10.0</td>\n",
       "      <td>2</td>\n",
       "      <td>rain</td>\n",
       "    </tr>\n",
       "    <tr>\n",
       "      <th>87</th>\n",
       "      <td>67.0</td>\n",
       "      <td>0.000</td>\n",
       "      <td>10.0</td>\n",
       "      <td>9</td>\n",
       "      <td>partly-cloudy-day</td>\n",
       "    </tr>\n",
       "    <tr>\n",
       "      <th>88</th>\n",
       "      <td>75.2</td>\n",
       "      <td>0.000</td>\n",
       "      <td>13.0</td>\n",
       "      <td>9</td>\n",
       "      <td>partly-cloudy-day</td>\n",
       "    </tr>\n",
       "    <tr>\n",
       "      <th>89</th>\n",
       "      <td>73.9</td>\n",
       "      <td>0.000</td>\n",
       "      <td>15.5</td>\n",
       "      <td>10</td>\n",
       "      <td>partly-cloudy-day</td>\n",
       "    </tr>\n",
       "  </tbody>\n",
       "</table>\n",
       "<p>90 rows × 5 columns</p>\n",
       "</div>"
      ],
      "text/plain": [
       "    temp  precip  windspeed  uvindex               icon\n",
       "0   42.4   0.000       12.0        5  partly-cloudy-day\n",
       "1   47.1   0.012       19.1        2               rain\n",
       "2   42.2   0.000       14.7        6          clear-day\n",
       "3   41.7   0.000        9.2        6          clear-day\n",
       "4   41.0   0.000       12.2        6  partly-cloudy-day\n",
       "..   ...     ...        ...      ...                ...\n",
       "85  55.2   0.000       15.4        9  partly-cloudy-day\n",
       "86  55.7   0.032       10.0        2               rain\n",
       "87  67.0   0.000       10.0        9  partly-cloudy-day\n",
       "88  75.2   0.000       13.0        9  partly-cloudy-day\n",
       "89  73.9   0.000       15.5       10  partly-cloudy-day\n",
       "\n",
       "[90 rows x 5 columns]"
      ]
     },
     "execution_count": 11,
     "metadata": {},
     "output_type": "execute_result"
    }
   ],
   "source": [
    "# we have two target variables: PU_ct and DO_ct\n",
    "y = merged_df[['PU_ct','DO_ct']]\n",
    "X = merged_df[['temp','precip','windspeed','uvindex','icon']]\n",
    "X"
   ]
  },
  {
   "cell_type": "markdown",
   "id": "5fviKOAlyhoW",
   "metadata": {
    "id": "5fviKOAlyhoW"
   },
   "source": [
    "## <font color=\"red\"> Important: train_test_split with y=['PU_ct','DO_ct']. Why? <font>"
   ]
  },
  {
   "cell_type": "code",
   "execution_count": 12,
   "id": "5fcef27b",
   "metadata": {
    "id": "5fcef27b"
   },
   "outputs": [],
   "source": [
    "from sklearn.model_selection import train_test_split\n",
    "\n",
    "X_train,X_test, y_train,y_test = train_test_split(X,y, test_size=0.4, random_state = 200) # 40% test data"
   ]
  },
  {
   "cell_type": "markdown",
   "id": "Cm3JSn4w2SmI",
   "metadata": {
    "id": "Cm3JSn4w2SmI"
   },
   "source": [
    "# **Assignment 1: Classification Tree and Performance Evaluation**\n",
    "\n",
    "### As we discussed in class, our intuition is to allocate more bikes if PU_ct > DO_ct; and less bikes if PU_ct < DO_ct. Thus, in this assignment, we want to predict whether PU_ct > DO_ct. We first create a new target variable to indicate whether PU_ct > DO_ct."
   ]
  },
  {
   "cell_type": "markdown",
   "id": "sK2H2W8g1lWv",
   "metadata": {
    "id": "sK2H2W8g1lWv"
   },
   "source": [
    "## <font color=\"red\"> Additional Preprocessing Steps <font>\n",
    "\n",
    "### Create categorical target variable 'Which_High' with classes {'PU_High','DO_High'}"
   ]
  },
  {
   "cell_type": "code",
   "execution_count": 13,
   "id": "kdDUyQIpp5K5",
   "metadata": {
    "id": "kdDUyQIpp5K5"
   },
   "outputs": [],
   "source": [
    "# create a new variable to indicate if PU_ct > DO_ct in y_train and y_test\n",
    "# create 'Which_High' with classes in string for plot_tree\n",
    "\n",
    "y_train['PU_gt_DO'] = y_train['PU_ct'] > y_train['DO_ct']\n",
    "y_train['Which_High'] = y_train['PU_gt_DO'].map({True: 'PU_High', False: 'DO_High'})\n",
    "\n",
    "y_test['PU_gt_DO'] = y_test['PU_ct'] > y_test['DO_ct']\n",
    "y_test['Which_High']=y_test['PU_gt_DO'].map({True: 'PU_High', False: 'DO_High'})\n"
   ]
  },
  {
   "cell_type": "markdown",
   "id": "iBpPRkLKsmZk",
   "metadata": {
    "id": "iBpPRkLKsmZk"
   },
   "source": [
    "### Dummy encoding of categorical feature 'icon' before training"
   ]
  },
  {
   "cell_type": "code",
   "execution_count": 14,
   "id": "Ur-h62Scsg2G",
   "metadata": {
    "id": "Ur-h62Scsg2G"
   },
   "outputs": [],
   "source": [
    "# get dummies in X_train_PU\n",
    "X_train = pd.get_dummies(X_train, columns=['icon'], prefix='icon',drop_first=True)\n",
    "# get dummies in X_test_PU\n",
    "X_test = pd.get_dummies(X_test, columns=['icon'], prefix='icon',drop_first=True)\n",
    "\n",
    "# Ensure both training and testing sets have the same columns\n",
    "X_test = X_test.reindex(columns=X_train.columns, fill_value=0)"
   ]
  },
  {
   "cell_type": "code",
   "execution_count": 15,
   "id": "-S7kHIjVtBGh",
   "metadata": {
    "colab": {
     "base_uri": "https://localhost:8080/",
     "height": 206
    },
    "executionInfo": {
     "elapsed": 4,
     "status": "ok",
     "timestamp": 1743209636506,
     "user": {
      "displayName": "Long He",
      "userId": "13831194534397991444"
     },
     "user_tz": 240
    },
    "id": "-S7kHIjVtBGh",
    "outputId": "3ce1c866-6326-4185-8ff8-ef4ff4501a5e"
   },
   "outputs": [
    {
     "data": {
      "text/html": [
       "<div>\n",
       "<style scoped>\n",
       "    .dataframe tbody tr th:only-of-type {\n",
       "        vertical-align: middle;\n",
       "    }\n",
       "\n",
       "    .dataframe tbody tr th {\n",
       "        vertical-align: top;\n",
       "    }\n",
       "\n",
       "    .dataframe thead th {\n",
       "        text-align: right;\n",
       "    }\n",
       "</style>\n",
       "<table border=\"1\" class=\"dataframe\">\n",
       "  <thead>\n",
       "    <tr style=\"text-align: right;\">\n",
       "      <th></th>\n",
       "      <th>temp</th>\n",
       "      <th>precip</th>\n",
       "      <th>windspeed</th>\n",
       "      <th>uvindex</th>\n",
       "      <th>icon_partly-cloudy-day</th>\n",
       "      <th>icon_rain</th>\n",
       "      <th>icon_snow</th>\n",
       "    </tr>\n",
       "  </thead>\n",
       "  <tbody>\n",
       "    <tr>\n",
       "      <th>73</th>\n",
       "      <td>66.0</td>\n",
       "      <td>0.000</td>\n",
       "      <td>22.5</td>\n",
       "      <td>8</td>\n",
       "      <td>True</td>\n",
       "      <td>False</td>\n",
       "      <td>False</td>\n",
       "    </tr>\n",
       "    <tr>\n",
       "      <th>60</th>\n",
       "      <td>53.9</td>\n",
       "      <td>0.235</td>\n",
       "      <td>13.1</td>\n",
       "      <td>4</td>\n",
       "      <td>False</td>\n",
       "      <td>True</td>\n",
       "      <td>False</td>\n",
       "    </tr>\n",
       "    <tr>\n",
       "      <th>18</th>\n",
       "      <td>41.1</td>\n",
       "      <td>0.000</td>\n",
       "      <td>11.2</td>\n",
       "      <td>7</td>\n",
       "      <td>False</td>\n",
       "      <td>False</td>\n",
       "      <td>False</td>\n",
       "    </tr>\n",
       "    <tr>\n",
       "      <th>44</th>\n",
       "      <td>56.6</td>\n",
       "      <td>0.000</td>\n",
       "      <td>18.8</td>\n",
       "      <td>8</td>\n",
       "      <td>True</td>\n",
       "      <td>False</td>\n",
       "      <td>False</td>\n",
       "    </tr>\n",
       "    <tr>\n",
       "      <th>4</th>\n",
       "      <td>41.0</td>\n",
       "      <td>0.000</td>\n",
       "      <td>12.2</td>\n",
       "      <td>6</td>\n",
       "      <td>True</td>\n",
       "      <td>False</td>\n",
       "      <td>False</td>\n",
       "    </tr>\n",
       "  </tbody>\n",
       "</table>\n",
       "</div>"
      ],
      "text/plain": [
       "    temp  precip  windspeed  uvindex  icon_partly-cloudy-day  icon_rain  \\\n",
       "73  66.0   0.000       22.5        8                    True      False   \n",
       "60  53.9   0.235       13.1        4                   False       True   \n",
       "18  41.1   0.000       11.2        7                   False      False   \n",
       "44  56.6   0.000       18.8        8                    True      False   \n",
       "4   41.0   0.000       12.2        6                    True      False   \n",
       "\n",
       "    icon_snow  \n",
       "73      False  \n",
       "60      False  \n",
       "18      False  \n",
       "44      False  \n",
       "4       False  "
      ]
     },
     "execution_count": 15,
     "metadata": {},
     "output_type": "execute_result"
    }
   ],
   "source": [
    "X_train.head()"
   ]
  },
  {
   "cell_type": "markdown",
   "id": "sCuCU3hzpVdM",
   "metadata": {
    "id": "sCuCU3hzpVdM"
   },
   "source": [
    "## <font color=\"red\"> Task 1: </font> Train and visualize a classification tree with max_depth=3 for predicting 'Which_High' using 'entropy' as the criterion. [10 pts]"
   ]
  },
  {
   "cell_type": "code",
   "execution_count": 16,
   "id": "txW4RMncZbYt",
   "metadata": {
    "id": "txW4RMncZbYt"
   },
   "outputs": [
    {
     "data": {
      "image/png": "[encoded data removed]",
      "text/plain": [
       "<Figure size 1600x1200 with 1 Axes>"
      ]
     },
     "metadata": {},
     "output_type": "display_data"
    }
   ],
   "source": [
    "from sklearn.tree import DecisionTreeClassifier, plot_tree\n",
    "import matplotlib.pyplot as plt\n",
    "\n",
    "# Train model\n",
    "clf = DecisionTreeClassifier(criterion='entropy', max_depth=3, random_state=42)\n",
    "clf.fit(X_train, y_train['Which_High'])\n",
    "\n",
    "# Visualize with best settings\n",
    "plt.figure(figsize=(16, 12))\n",
    "plot_tree(clf,\n",
    "          feature_names=list(X_train.columns),\n",
    "          class_names=list(clf.classes_),\n",
    "          filled=True,\n",
    "          proportion=True)\n",
    "plt.title(\"Classification Tree (Entropy, Max Depth = 3)\")\n",
    "plt.tight_layout()\n",
    "plt.show()\n"
   ]
  },
  {
   "cell_type": "markdown",
   "id": "vBdJnd7DucWN",
   "metadata": {
    "id": "vBdJnd7DucWN"
   },
   "source": [
    "## <font color=\"red\"> Task 2: </font> Pick the first sample in the test data and report its estimated probability of 'PU_High'. [10pts]"
   ]
  },
  {
   "cell_type": "code",
   "execution_count": 20,
   "id": "zSxp5HIJZe8C",
   "metadata": {
    "id": "zSxp5HIJZe8C"
   },
   "outputs": [
    {
     "name": "stdout",
     "output_type": "stream",
     "text": [
      "Estimated probability of 'PU_High' for the first test sample: 0.2000\n"
     ]
    }
   ],
   "source": [
    "from sklearn.tree import DecisionTreeClassifier\n",
    "\n",
    "# Step 1: Train the model (only if not already trained)\n",
    "dtc_model = DecisionTreeClassifier(criterion='entropy', max_depth=3, random_state=42)\n",
    "dtc_model.fit(X_train, y_train['Which_High'])\n",
    "\n",
    "# Step 2: Predict class probabilities for the first test instance\n",
    "y_prob = dtc_model.predict_proba(X_test.iloc[[0]])\n",
    "\n",
    "# Step 3: Get index of 'PU_High' in class list\n",
    "pu_index = list(dtc_model.classes_).index('PU_High')\n",
    "\n",
    "# Step 4: Extract and report the estimated probability of 'PU_High'\n",
    "pu_prob = y_prob[0][pu_index]\n",
    "print(f\"Estimated probability of 'PU_High' for the first test sample: {pu_prob:.4f}\")\n",
    "\n",
    "\n"
   ]
  },
  {
   "cell_type": "markdown",
   "id": "71ALvUI6tq5s",
   "metadata": {
    "id": "71ALvUI6tq5s"
   },
   "source": [
    "## <font color=\"red\"> Task 3: </font> Report the classification tree model's plain accuracy in the test data. [10pts]"
   ]
  },
  {
   "cell_type": "code",
   "execution_count": 22,
   "id": "1aZ6naUqZf39",
   "metadata": {
    "id": "1aZ6naUqZf39"
   },
   "outputs": [
    {
     "name": "stdout",
     "output_type": "stream",
     "text": [
      "Classification tree accuracy on test data: 0.5278\n"
     ]
    }
   ],
   "source": [
    "from sklearn.metrics import accuracy_score\n",
    "\n",
    "# Step 2: Predict on test data\n",
    "y_pred = dtc_model.predict(X_test)\n",
    "\n",
    "# Step 3: Calculate accuracy\n",
    "accuracy = accuracy_score(y_test['Which_High'], y_pred)\n",
    "\n",
    "# Step 4: Report accuracy\n",
    "print(f\"Classification tree accuracy on test data: {accuracy:.4f}\")"
   ]
  },
  {
   "cell_type": "markdown",
   "id": "DZQOJctaxie8",
   "metadata": {
    "id": "DZQOJctaxie8"
   },
   "source": [
    "## <font color=\"red\"> Task 4: </font> Show the confusion matrix of this classification tree in the test data [10 pts]"
   ]
  },
  {
   "cell_type": "code",
   "execution_count": 23,
   "id": "PYWDhWKIZhAF",
   "metadata": {
    "id": "PYWDhWKIZhAF"
   },
   "outputs": [
    {
     "data": {
      "text/plain": [
       "<Figure size 600x400 with 0 Axes>"
      ]
     },
     "metadata": {},
     "output_type": "display_data"
    },
    {
     "data": {
      "image/png": "[encoded data removed]",
      "text/plain": [
       "<Figure size 640x480 with 2 Axes>"
      ]
     },
     "metadata": {},
     "output_type": "display_data"
    }
   ],
   "source": [
    "from sklearn.metrics import confusion_matrix, ConfusionMatrixDisplay\n",
    "import matplotlib.pyplot as plt\n",
    "\n",
    "# Step 1: Predict on test data (if not already done)\n",
    "y_pred = dtc_model.predict(X_test)\n",
    "\n",
    "# Step 2: Generate confusion matrix\n",
    "cm = confusion_matrix(y_test['Which_High'], y_pred, labels=dtc_model.classes_)\n",
    "\n",
    "# Step 3: Display it using ConfusionMatrixDisplay\n",
    "disp = ConfusionMatrixDisplay(confusion_matrix=cm, display_labels=dtc_model.classes_)\n",
    "\n",
    "# Step 4: Plot\n",
    "plt.figure(figsize=(6, 4))\n",
    "disp.plot(cmap='Blues', values_format='d')\n",
    "plt.title(\"Confusion Matrix - Decision Tree on Test Data\")\n",
    "plt.grid(False)\n",
    "plt.show()\n"
   ]
  },
  {
   "cell_type": "markdown",
   "id": "hsDuy5lIycjh",
   "metadata": {
    "id": "hsDuy5lIycjh"
   },
   "source": [
    "## <font color=\"red\"> Task 5: </font> Suppose we are interested in the class of 'DO_High' (i.e., we call it 'positive'). What are the true positive rate and the false positive rate of this classification tree? [10 pts]"
   ]
  },
  {
   "cell_type": "code",
   "execution_count": 25,
   "id": "ehsRkqVfZiAa",
   "metadata": {
    "id": "ehsRkqVfZiAa"
   },
   "outputs": [
    {
     "name": "stdout",
     "output_type": "stream",
     "text": [
      "True Positive Rate (TPR) for 'DO_High': 0.5500\n",
      "False Positive Rate (FPR) for 'DO_High': 0.5000\n"
     ]
    }
   ],
   "source": [
    "from sklearn.metrics import confusion_matrix\n",
    "\n",
    "# Step 1: Predict on test data\n",
    "y_pred = dtc_model.predict(X_test)\n",
    "\n",
    "# Step 2: Create confusion matrix with consistent label order\n",
    "labels = ['DO_High', 'PU_High']  # DO_High is positive class\n",
    "cm = confusion_matrix(y_test['Which_High'], y_pred, labels=labels)\n",
    "\n",
    "# Step 3: Extract confusion matrix values\n",
    "TP = cm[0, 0]  # True Positive: Predicted DO_High, actual DO_High\n",
    "FN = cm[0, 1]  # False Negative: Predicted PU_High, actual DO_High\n",
    "FP = cm[1, 0]  # False Positive: Predicted DO_High, actual PU_High\n",
    "TN = cm[1, 1]  # True Negative: Predicted PU_High, actual PU_High\n",
    "\n",
    "# Step 4: Calculate TPR and FPR\n",
    "TPR = TP / (TP + FN) if (TP + FN) != 0 else 0\n",
    "FPR = FP / (FP + TN) if (FP + TN) != 0 else 0\n",
    "\n",
    "# Step 5: Print results\n",
    "print(f\"True Positive Rate (TPR) for 'DO_High': {TPR:.4f}\")\n",
    "print(f\"False Positive Rate (FPR) for 'DO_High': {FPR:.4f}\")\n"
   ]
  },
  {
   "cell_type": "markdown",
   "id": "O3Aq99-rz87X",
   "metadata": {
    "id": "O3Aq99-rz87X"
   },
   "source": [
    "## <font color=\"red\"> Task 6: </font> Follow the sample code in 'Lec 2 ClassificationPerformance', compare the following methods by AUC evaluated under 5-fold cross-validation. [20 pts]\n",
    "- Linear SVM, i.e., SVC(kernel = 'linear')\n",
    "- KNN with K=10\n",
    "- DecisionTreeClassifier(max_depth=3,criterion = 'entropy', random_state=0)\n"
   ]
  },
  {
   "cell_type": "code",
   "execution_count": 29,
   "id": "7o0bsRK-Zjah",
   "metadata": {
    "id": "7o0bsRK-Zjah"
   },
   "outputs": [
    {
     "name": "stdout",
     "output_type": "stream",
     "text": [
      "       Algorithm  AUC Mean  AUC STD  Accuracy Mean  Accuracy STD  \\\n",
      "1     KNN (k=10)     50.17    20.99          53.45         19.70   \n",
      "2  Decision Tree     36.58    13.88          51.82         13.36   \n",
      "0     Linear SVM     27.67     4.67          50.36         13.98   \n",
      "\n",
      "                      AUC Scores (per fold)  \n",
      "1  [0.6833, 0.2833, 0.4167, 0.8125, 0.3125]  \n",
      "2     [0.5167, 0.2833, 0.3833, 0.1458, 0.5]  \n",
      "0    [0.2333, 0.3333, 0.2333, 0.3333, 0.25]  \n"
     ]
    }
   ],
   "source": [
    "# Required libraries\n",
    "import pandas as pd\n",
    "import numpy as np\n",
    "from sklearn.model_selection import cross_val_score, KFold\n",
    "from sklearn.metrics import roc_auc_score, make_scorer\n",
    "from sklearn.neighbors import KNeighborsClassifier\n",
    "from sklearn.svm import SVC\n",
    "from sklearn.tree import DecisionTreeClassifier\n",
    "\n",
    "# Define models\n",
    "models = [\n",
    "    ('Linear SVM', SVC(kernel='linear', probability=True, random_state=0)),\n",
    "    ('KNN (k=10)', KNeighborsClassifier(n_neighbors=10)),\n",
    "    ('Decision Tree', DecisionTreeClassifier(max_depth=3, criterion='entropy', random_state=0))\n",
    "]\n",
    "\n",
    "# Initialize results list\n",
    "results_list = []\n",
    "\n",
    "# Set up 5-fold CV\n",
    "kf = KFold(n_splits=5, shuffle=True, random_state=42)\n",
    "auc_scorer = make_scorer(roc_auc_score, response_method='predict_proba')\n",
    "\n",
    "# Loop through models and collect performance\n",
    "for name, model in models:\n",
    "    cv_auc = cross_val_score(model, X_train, y_train['Which_High'], cv=kf, scoring=auc_scorer)\n",
    "    cv_acc = cross_val_score(model, X_train, y_train['Which_High'], cv=kf, scoring='accuracy')\n",
    "\n",
    "    results_list.append({\n",
    "        'Algorithm': name,\n",
    "        'AUC Mean': round(cv_auc.mean() * 100, 2),\n",
    "        'AUC STD': round(cv_auc.std() * 100, 2),\n",
    "        'Accuracy Mean': round(cv_acc.mean() * 100, 2),\n",
    "        'Accuracy STD': round(cv_acc.std() * 100, 2),\n",
    "        'AUC Scores (per fold)': [round(score, 4) for score in cv_auc]\n",
    "    })\n",
    "\n",
    "# Create and display results table\n",
    "results_df = pd.DataFrame(results_list)\n",
    "results_df = results_df.sort_values(by='AUC Mean', ascending=False)\n",
    "\n",
    "# Print complete DataFrame\n",
    "pd.set_option('display.max_colwidth', None)\n",
    "print(results_df)\n"
   ]
  },
  {
   "cell_type": "markdown",
   "id": "dHseveGM015Q",
   "metadata": {
    "id": "dHseveGM015Q"
   },
   "source": [
    "## <font color=\"red\"> Task 7: </font> After selecting the best model, report its final out-of-sample performance measured by AUC. [10 pts]"
   ]
  },
  {
   "cell_type": "code",
   "execution_count": 31,
   "id": "KGKQaiZIYjzT",
   "metadata": {
    "id": "KGKQaiZIYjzT"
   },
   "outputs": [
    {
     "name": "stdout",
     "output_type": "stream",
     "text": [
      "Best Model: SVC (Linear Kernel)\n",
      "Final Out-of-Sample AUC: 38.75%\n"
     ]
    }
   ],
   "source": [
    "from sklearn.svm import SVC\n",
    "from sklearn.metrics import roc_auc_score\n",
    "\n",
    "# Train the best model (Linear SVM) on the full training set\n",
    "best_model = SVC(kernel='linear', probability=True, random_state=0)\n",
    "best_model.fit(X_train, y_train['Which_High'])\n",
    "\n",
    "# Predict using decision_function (since SVC returns distances, not probabilities by default)\n",
    "y_pred_prob = best_model.decision_function(X_test)\n",
    "\n",
    "# Calculate final AUC on out-of-sample test set\n",
    "final_auc = roc_auc_score(y_test['Which_High'], y_pred_prob)\n",
    "\n",
    "# Print formatted output\n",
    "print(f\"Best Model: SVC (Linear Kernel)\")\n",
    "print(f\"Final Out-of-Sample AUC: {final_auc * 100:.2f}%\")\n",
    "\n"
   ]
  },
  {
   "cell_type": "code",
   "execution_count": null,
   "id": "1ebc5255-e1e5-4188-9a54-080772d61236",
   "metadata": {},
   "outputs": [],
   "source": []
  }
 ],
 "metadata": {
  "colab": {
   "provenance": [
    {
     "file_id": "182pSlTJ3Kxy5EUkyiaFA58_JlrUtZK99",
     "timestamp": 1738511193311
    }
   ]
  },
  "kernelspec": {
   "display_name": "Python 3 (ipykernel)",
   "language": "python",
   "name": "python3"
  },
  "language_info": {
   "codemirror_mode": {
    "name": "ipython",
    "version": 3
   },
   "file_extension": ".py",
   "mimetype": "text/x-python",
   "name": "python",
   "nbconvert_exporter": "python",
   "pygments_lexer": "ipython3",
   "version": "3.12.7"
  }
 },
 "nbformat": 4,
 "nbformat_minor": 5
}
